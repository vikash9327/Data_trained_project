{
 "cells": [
  {
   "cell_type": "code",
   "execution_count": 40,
   "id": "dcb2c599",
   "metadata": {},
   "outputs": [],
   "source": [
    "import pandas as pd\n",
    "import numpy as np\n",
    "from sklearn.preprocessing import StandardScaler\n",
    "from sklearn.linear_model import LinearRegression\n",
    "from sklearn.preprocessing import LabelEncoder\n",
    "from sklearn.preprocessing import OrdinalEncoder\n",
    "from sklearn.metrics import r2_score\n",
    "from sklearn.model_selection import train_test_split\n",
    "from sklearn.model_selection import GridSearchCV\n",
    "from sklearn.ensemble import RandomForestRegressor\n",
    "from sklearn.model_selection import cross_val_score\n",
    "#import statsmodels.api as sm\n",
    "import matplotlib.pyplot as plt\n",
    "import seaborn as sns\n",
    "import pickle\n",
    "\n",
    "import warnings\n",
    "warnings.filterwarnings('ignore')"
   ]
  },
  {
   "cell_type": "code",
   "execution_count": 41,
   "id": "68786fd1",
   "metadata": {},
   "outputs": [
    {
     "data": {
      "text/html": [
       "<div>\n",
       "<style scoped>\n",
       "    .dataframe tbody tr th:only-of-type {\n",
       "        vertical-align: middle;\n",
       "    }\n",
       "\n",
       "    .dataframe tbody tr th {\n",
       "        vertical-align: top;\n",
       "    }\n",
       "\n",
       "    .dataframe thead th {\n",
       "        text-align: right;\n",
       "    }\n",
       "</style>\n",
       "<table border=\"1\" class=\"dataframe\">\n",
       "  <thead>\n",
       "    <tr style=\"text-align: right;\">\n",
       "      <th></th>\n",
       "      <th>rank</th>\n",
       "      <th>discipline</th>\n",
       "      <th>yrs.since.phd</th>\n",
       "      <th>yrs.service</th>\n",
       "      <th>sex</th>\n",
       "      <th>salary</th>\n",
       "    </tr>\n",
       "  </thead>\n",
       "  <tbody>\n",
       "    <tr>\n",
       "      <th>0</th>\n",
       "      <td>Prof</td>\n",
       "      <td>B</td>\n",
       "      <td>19</td>\n",
       "      <td>18</td>\n",
       "      <td>Male</td>\n",
       "      <td>139750</td>\n",
       "    </tr>\n",
       "    <tr>\n",
       "      <th>1</th>\n",
       "      <td>Prof</td>\n",
       "      <td>B</td>\n",
       "      <td>20</td>\n",
       "      <td>16</td>\n",
       "      <td>Male</td>\n",
       "      <td>173200</td>\n",
       "    </tr>\n",
       "    <tr>\n",
       "      <th>2</th>\n",
       "      <td>AsstProf</td>\n",
       "      <td>B</td>\n",
       "      <td>4</td>\n",
       "      <td>3</td>\n",
       "      <td>Male</td>\n",
       "      <td>79750</td>\n",
       "    </tr>\n",
       "    <tr>\n",
       "      <th>3</th>\n",
       "      <td>Prof</td>\n",
       "      <td>B</td>\n",
       "      <td>45</td>\n",
       "      <td>39</td>\n",
       "      <td>Male</td>\n",
       "      <td>115000</td>\n",
       "    </tr>\n",
       "    <tr>\n",
       "      <th>4</th>\n",
       "      <td>Prof</td>\n",
       "      <td>B</td>\n",
       "      <td>40</td>\n",
       "      <td>41</td>\n",
       "      <td>Male</td>\n",
       "      <td>141500</td>\n",
       "    </tr>\n",
       "  </tbody>\n",
       "</table>\n",
       "</div>"
      ],
      "text/plain": [
       "       rank discipline  yrs.since.phd  yrs.service   sex  salary\n",
       "0      Prof          B             19           18  Male  139750\n",
       "1      Prof          B             20           16  Male  173200\n",
       "2  AsstProf          B              4            3  Male   79750\n",
       "3      Prof          B             45           39  Male  115000\n",
       "4      Prof          B             40           41  Male  141500"
      ]
     },
     "execution_count": 41,
     "metadata": {},
     "output_type": "execute_result"
    }
   ],
   "source": [
    "data=pd.read_csv('https://raw.githubusercontent.com/dsrscientist/dataset3/main/Salaries.csv')\n",
    "data.head()"
   ]
  },
  {
   "cell_type": "code",
   "execution_count": 42,
   "id": "f347996a",
   "metadata": {},
   "outputs": [
    {
     "data": {
      "text/plain": [
       "(397, 6)"
      ]
     },
     "execution_count": 42,
     "metadata": {},
     "output_type": "execute_result"
    }
   ],
   "source": [
    "data.shape"
   ]
  },
  {
   "cell_type": "code",
   "execution_count": 43,
   "id": "933bcdad",
   "metadata": {},
   "outputs": [],
   "source": [
    "data.columns = data.columns.str.replace('.', '_')"
   ]
  },
  {
   "cell_type": "code",
   "execution_count": 45,
   "id": "b955edf2",
   "metadata": {},
   "outputs": [
    {
     "data": {
      "text/plain": [
       "rank             0\n",
       "discipline       0\n",
       "yrs_since_phd    0\n",
       "yrs_service      0\n",
       "sex              0\n",
       "salary           0\n",
       "dtype: int64"
      ]
     },
     "execution_count": 45,
     "metadata": {},
     "output_type": "execute_result"
    }
   ],
   "source": [
    "data.isnull().sum()"
   ]
  },
  {
   "cell_type": "code",
   "execution_count": 46,
   "id": "57c6cd9e",
   "metadata": {},
   "outputs": [
    {
     "data": {
      "text/plain": [
       "rank             object\n",
       "discipline       object\n",
       "yrs_since_phd     int64\n",
       "yrs_service       int64\n",
       "sex              object\n",
       "salary            int64\n",
       "dtype: object"
      ]
     },
     "execution_count": 46,
     "metadata": {},
     "output_type": "execute_result"
    }
   ],
   "source": [
    "data.dtypes"
   ]
  },
  {
   "cell_type": "code",
   "execution_count": 48,
   "id": "b818268c",
   "metadata": {},
   "outputs": [],
   "source": [
    "from sklearn.preprocessing import OrdinalEncoder"
   ]
  },
  {
   "cell_type": "code",
   "execution_count": 49,
   "id": "2b9c2964",
   "metadata": {},
   "outputs": [],
   "source": [
    "rank_d={'AsstProf':1, 'AssocProf':2,'Prof':3}\n",
    "data['rank']=data['rank'].map(rank_d)"
   ]
  },
  {
   "cell_type": "code",
   "execution_count": 50,
   "id": "2a3dd34d",
   "metadata": {},
   "outputs": [],
   "source": [
    "data= pd.get_dummies(data,drop_first=True)"
   ]
  },
  {
   "cell_type": "code",
   "execution_count": 51,
   "id": "d43b2ce4",
   "metadata": {},
   "outputs": [],
   "source": [
    "df=data.copy()"
   ]
  },
  {
   "cell_type": "code",
   "execution_count": 52,
   "id": "f40b8ede",
   "metadata": {},
   "outputs": [
    {
     "data": {
      "text/html": [
       "<div>\n",
       "<style scoped>\n",
       "    .dataframe tbody tr th:only-of-type {\n",
       "        vertical-align: middle;\n",
       "    }\n",
       "\n",
       "    .dataframe tbody tr th {\n",
       "        vertical-align: top;\n",
       "    }\n",
       "\n",
       "    .dataframe thead th {\n",
       "        text-align: right;\n",
       "    }\n",
       "</style>\n",
       "<table border=\"1\" class=\"dataframe\">\n",
       "  <thead>\n",
       "    <tr style=\"text-align: right;\">\n",
       "      <th></th>\n",
       "      <th>rank</th>\n",
       "      <th>yrs_since_phd</th>\n",
       "      <th>yrs_service</th>\n",
       "      <th>salary</th>\n",
       "      <th>discipline_B</th>\n",
       "      <th>sex_Male</th>\n",
       "    </tr>\n",
       "  </thead>\n",
       "  <tbody>\n",
       "    <tr>\n",
       "      <th>0</th>\n",
       "      <td>3</td>\n",
       "      <td>19</td>\n",
       "      <td>18</td>\n",
       "      <td>139750</td>\n",
       "      <td>1</td>\n",
       "      <td>1</td>\n",
       "    </tr>\n",
       "    <tr>\n",
       "      <th>1</th>\n",
       "      <td>3</td>\n",
       "      <td>20</td>\n",
       "      <td>16</td>\n",
       "      <td>173200</td>\n",
       "      <td>1</td>\n",
       "      <td>1</td>\n",
       "    </tr>\n",
       "    <tr>\n",
       "      <th>2</th>\n",
       "      <td>1</td>\n",
       "      <td>4</td>\n",
       "      <td>3</td>\n",
       "      <td>79750</td>\n",
       "      <td>1</td>\n",
       "      <td>1</td>\n",
       "    </tr>\n",
       "    <tr>\n",
       "      <th>3</th>\n",
       "      <td>3</td>\n",
       "      <td>45</td>\n",
       "      <td>39</td>\n",
       "      <td>115000</td>\n",
       "      <td>1</td>\n",
       "      <td>1</td>\n",
       "    </tr>\n",
       "    <tr>\n",
       "      <th>4</th>\n",
       "      <td>3</td>\n",
       "      <td>40</td>\n",
       "      <td>41</td>\n",
       "      <td>141500</td>\n",
       "      <td>1</td>\n",
       "      <td>1</td>\n",
       "    </tr>\n",
       "  </tbody>\n",
       "</table>\n",
       "</div>"
      ],
      "text/plain": [
       "   rank  yrs_since_phd  yrs_service  salary  discipline_B  sex_Male\n",
       "0     3             19           18  139750             1         1\n",
       "1     3             20           16  173200             1         1\n",
       "2     1              4            3   79750             1         1\n",
       "3     3             45           39  115000             1         1\n",
       "4     3             40           41  141500             1         1"
      ]
     },
     "execution_count": 52,
     "metadata": {},
     "output_type": "execute_result"
    }
   ],
   "source": [
    "df.head()"
   ]
  },
  {
   "cell_type": "code",
   "execution_count": 56,
   "id": "d941dc4b",
   "metadata": {},
   "outputs": [
    {
     "data": {
      "text/plain": [
       "rank               3\n",
       "yrs_since_phd     53\n",
       "yrs_service       52\n",
       "salary           371\n",
       "discipline_B       2\n",
       "sex_Male           2\n",
       "dtype: int64"
      ]
     },
     "execution_count": 56,
     "metadata": {},
     "output_type": "execute_result"
    }
   ],
   "source": [
    "df.nunique()"
   ]
  },
  {
   "cell_type": "code",
   "execution_count": 57,
   "id": "7ef203e7",
   "metadata": {},
   "outputs": [
    {
     "data": {
      "text/plain": [
       "3"
      ]
     },
     "execution_count": 57,
     "metadata": {},
     "output_type": "execute_result"
    }
   ],
   "source": [
    "df['rank'].nunique()"
   ]
  },
  {
   "cell_type": "code",
   "execution_count": 75,
   "id": "1e615352",
   "metadata": {},
   "outputs": [
    {
     "data": {
      "text/html": [
       "<div>\n",
       "<style scoped>\n",
       "    .dataframe tbody tr th:only-of-type {\n",
       "        vertical-align: middle;\n",
       "    }\n",
       "\n",
       "    .dataframe tbody tr th {\n",
       "        vertical-align: top;\n",
       "    }\n",
       "\n",
       "    .dataframe thead th {\n",
       "        text-align: right;\n",
       "    }\n",
       "</style>\n",
       "<table border=\"1\" class=\"dataframe\">\n",
       "  <thead>\n",
       "    <tr style=\"text-align: right;\">\n",
       "      <th></th>\n",
       "      <th>rank</th>\n",
       "      <th>yrs_since_phd</th>\n",
       "      <th>yrs_service</th>\n",
       "      <th>salary</th>\n",
       "      <th>discipline_B</th>\n",
       "      <th>sex_Male</th>\n",
       "    </tr>\n",
       "  </thead>\n",
       "  <tbody>\n",
       "    <tr>\n",
       "      <th>count</th>\n",
       "      <td>397.000000</td>\n",
       "      <td>397.000000</td>\n",
       "      <td>397.000000</td>\n",
       "      <td>397.000000</td>\n",
       "      <td>397.000000</td>\n",
       "      <td>397.000000</td>\n",
       "    </tr>\n",
       "    <tr>\n",
       "      <th>mean</th>\n",
       "      <td>2.501259</td>\n",
       "      <td>22.314861</td>\n",
       "      <td>17.614610</td>\n",
       "      <td>113706.458438</td>\n",
       "      <td>0.544081</td>\n",
       "      <td>0.901763</td>\n",
       "    </tr>\n",
       "    <tr>\n",
       "      <th>std</th>\n",
       "      <td>0.767472</td>\n",
       "      <td>12.887003</td>\n",
       "      <td>13.006024</td>\n",
       "      <td>30289.038695</td>\n",
       "      <td>0.498682</td>\n",
       "      <td>0.298010</td>\n",
       "    </tr>\n",
       "    <tr>\n",
       "      <th>min</th>\n",
       "      <td>1.000000</td>\n",
       "      <td>1.000000</td>\n",
       "      <td>0.000000</td>\n",
       "      <td>57800.000000</td>\n",
       "      <td>0.000000</td>\n",
       "      <td>0.000000</td>\n",
       "    </tr>\n",
       "    <tr>\n",
       "      <th>25%</th>\n",
       "      <td>2.000000</td>\n",
       "      <td>12.000000</td>\n",
       "      <td>7.000000</td>\n",
       "      <td>91000.000000</td>\n",
       "      <td>0.000000</td>\n",
       "      <td>1.000000</td>\n",
       "    </tr>\n",
       "    <tr>\n",
       "      <th>50%</th>\n",
       "      <td>3.000000</td>\n",
       "      <td>21.000000</td>\n",
       "      <td>16.000000</td>\n",
       "      <td>107300.000000</td>\n",
       "      <td>1.000000</td>\n",
       "      <td>1.000000</td>\n",
       "    </tr>\n",
       "    <tr>\n",
       "      <th>75%</th>\n",
       "      <td>3.000000</td>\n",
       "      <td>32.000000</td>\n",
       "      <td>27.000000</td>\n",
       "      <td>134185.000000</td>\n",
       "      <td>1.000000</td>\n",
       "      <td>1.000000</td>\n",
       "    </tr>\n",
       "    <tr>\n",
       "      <th>max</th>\n",
       "      <td>3.000000</td>\n",
       "      <td>56.000000</td>\n",
       "      <td>60.000000</td>\n",
       "      <td>231545.000000</td>\n",
       "      <td>1.000000</td>\n",
       "      <td>1.000000</td>\n",
       "    </tr>\n",
       "  </tbody>\n",
       "</table>\n",
       "</div>"
      ],
      "text/plain": [
       "             rank  yrs_since_phd  yrs_service         salary  discipline_B  \\\n",
       "count  397.000000     397.000000   397.000000     397.000000    397.000000   \n",
       "mean     2.501259      22.314861    17.614610  113706.458438      0.544081   \n",
       "std      0.767472      12.887003    13.006024   30289.038695      0.498682   \n",
       "min      1.000000       1.000000     0.000000   57800.000000      0.000000   \n",
       "25%      2.000000      12.000000     7.000000   91000.000000      0.000000   \n",
       "50%      3.000000      21.000000    16.000000  107300.000000      1.000000   \n",
       "75%      3.000000      32.000000    27.000000  134185.000000      1.000000   \n",
       "max      3.000000      56.000000    60.000000  231545.000000      1.000000   \n",
       "\n",
       "         sex_Male  \n",
       "count  397.000000  \n",
       "mean     0.901763  \n",
       "std      0.298010  \n",
       "min      0.000000  \n",
       "25%      1.000000  \n",
       "50%      1.000000  \n",
       "75%      1.000000  \n",
       "max      1.000000  "
      ]
     },
     "execution_count": 75,
     "metadata": {},
     "output_type": "execute_result"
    }
   ],
   "source": [
    "df.describe()"
   ]
  },
  {
   "cell_type": "code",
   "execution_count": 59,
   "id": "d28e91af",
   "metadata": {},
   "outputs": [],
   "source": [
    "import seaborn as sns"
   ]
  },
  {
   "cell_type": "code",
   "execution_count": 60,
   "id": "9e63faf0",
   "metadata": {
    "scrolled": true
   },
   "outputs": [],
   "source": [
    "corelation= df.corr()"
   ]
  },
  {
   "cell_type": "code",
   "execution_count": 61,
   "id": "23f477c9",
   "metadata": {},
   "outputs": [
    {
     "data": {
      "text/plain": [
       "<seaborn.axisgrid.PairGrid at 0x15cf9f25820>"
      ]
     },
     "execution_count": 61,
     "metadata": {},
     "output_type": "execute_result"
    },
    {
     "data": {
      "image/png": "[encoded data removed]",
      "text/plain": [
       "<Figure size 1080x1080 with 42 Axes>"
      ]
     },
     "metadata": {
      "needs_background": "light"
     },
     "output_type": "display_data"
    }
   ],
   "source": [
    "sns.pairplot(df)"
   ]
  },
  {
   "cell_type": "code",
   "execution_count": 62,
   "id": "df60e895",
   "metadata": {},
   "outputs": [
    {
     "data": {
      "text/plain": [
       "<AxesSubplot:>"
      ]
     },
     "execution_count": 62,
     "metadata": {},
     "output_type": "execute_result"
    },
    {
     "data": {
      "image/png": "[encoded data removed]",
      "text/plain": [
       "<Figure size 1584x720 with 2 Axes>"
      ]
     },
     "metadata": {
      "needs_background": "light"
     },
     "output_type": "display_data"
    }
   ],
   "source": [
    "plt.figure(figsize=(22,10))\n",
    "sns.heatmap(corelation,annot=True, linecolor=\"black\", fmt=\"0.2f\")"
   ]
  },
  {
   "cell_type": "code",
   "execution_count": 63,
   "id": "b6bf65eb",
   "metadata": {},
   "outputs": [],
   "source": [
    "x=df.drop(columns=['salary'],axis=1)\n",
    "y=df['salary']"
   ]
  },
  {
   "cell_type": "code",
   "execution_count": 64,
   "id": "6e25f698",
   "metadata": {},
   "outputs": [
    {
     "data": {
      "text/html": [
       "<div>\n",
       "<style scoped>\n",
       "    .dataframe tbody tr th:only-of-type {\n",
       "        vertical-align: middle;\n",
       "    }\n",
       "\n",
       "    .dataframe tbody tr th {\n",
       "        vertical-align: top;\n",
       "    }\n",
       "\n",
       "    .dataframe thead th {\n",
       "        text-align: right;\n",
       "    }\n",
       "</style>\n",
       "<table border=\"1\" class=\"dataframe\">\n",
       "  <thead>\n",
       "    <tr style=\"text-align: right;\">\n",
       "      <th></th>\n",
       "      <th>rank</th>\n",
       "      <th>yrs_since_phd</th>\n",
       "      <th>yrs_service</th>\n",
       "      <th>discipline_B</th>\n",
       "      <th>sex_Male</th>\n",
       "    </tr>\n",
       "  </thead>\n",
       "  <tbody>\n",
       "    <tr>\n",
       "      <th>0</th>\n",
       "      <td>3</td>\n",
       "      <td>19</td>\n",
       "      <td>18</td>\n",
       "      <td>1</td>\n",
       "      <td>1</td>\n",
       "    </tr>\n",
       "    <tr>\n",
       "      <th>1</th>\n",
       "      <td>3</td>\n",
       "      <td>20</td>\n",
       "      <td>16</td>\n",
       "      <td>1</td>\n",
       "      <td>1</td>\n",
       "    </tr>\n",
       "    <tr>\n",
       "      <th>2</th>\n",
       "      <td>1</td>\n",
       "      <td>4</td>\n",
       "      <td>3</td>\n",
       "      <td>1</td>\n",
       "      <td>1</td>\n",
       "    </tr>\n",
       "    <tr>\n",
       "      <th>3</th>\n",
       "      <td>3</td>\n",
       "      <td>45</td>\n",
       "      <td>39</td>\n",
       "      <td>1</td>\n",
       "      <td>1</td>\n",
       "    </tr>\n",
       "    <tr>\n",
       "      <th>4</th>\n",
       "      <td>3</td>\n",
       "      <td>40</td>\n",
       "      <td>41</td>\n",
       "      <td>1</td>\n",
       "      <td>1</td>\n",
       "    </tr>\n",
       "    <tr>\n",
       "      <th>...</th>\n",
       "      <td>...</td>\n",
       "      <td>...</td>\n",
       "      <td>...</td>\n",
       "      <td>...</td>\n",
       "      <td>...</td>\n",
       "    </tr>\n",
       "    <tr>\n",
       "      <th>392</th>\n",
       "      <td>3</td>\n",
       "      <td>33</td>\n",
       "      <td>30</td>\n",
       "      <td>0</td>\n",
       "      <td>1</td>\n",
       "    </tr>\n",
       "    <tr>\n",
       "      <th>393</th>\n",
       "      <td>3</td>\n",
       "      <td>31</td>\n",
       "      <td>19</td>\n",
       "      <td>0</td>\n",
       "      <td>1</td>\n",
       "    </tr>\n",
       "    <tr>\n",
       "      <th>394</th>\n",
       "      <td>3</td>\n",
       "      <td>42</td>\n",
       "      <td>25</td>\n",
       "      <td>0</td>\n",
       "      <td>1</td>\n",
       "    </tr>\n",
       "    <tr>\n",
       "      <th>395</th>\n",
       "      <td>3</td>\n",
       "      <td>25</td>\n",
       "      <td>15</td>\n",
       "      <td>0</td>\n",
       "      <td>1</td>\n",
       "    </tr>\n",
       "    <tr>\n",
       "      <th>396</th>\n",
       "      <td>1</td>\n",
       "      <td>8</td>\n",
       "      <td>4</td>\n",
       "      <td>0</td>\n",
       "      <td>1</td>\n",
       "    </tr>\n",
       "  </tbody>\n",
       "</table>\n",
       "<p>397 rows × 5 columns</p>\n",
       "</div>"
      ],
      "text/plain": [
       "     rank  yrs_since_phd  yrs_service  discipline_B  sex_Male\n",
       "0       3             19           18             1         1\n",
       "1       3             20           16             1         1\n",
       "2       1              4            3             1         1\n",
       "3       3             45           39             1         1\n",
       "4       3             40           41             1         1\n",
       "..    ...            ...          ...           ...       ...\n",
       "392     3             33           30             0         1\n",
       "393     3             31           19             0         1\n",
       "394     3             42           25             0         1\n",
       "395     3             25           15             0         1\n",
       "396     1              8            4             0         1\n",
       "\n",
       "[397 rows x 5 columns]"
      ]
     },
     "execution_count": 64,
     "metadata": {},
     "output_type": "execute_result"
    }
   ],
   "source": [
    "x"
   ]
  },
  {
   "cell_type": "code",
   "execution_count": 65,
   "id": "34d716d2",
   "metadata": {},
   "outputs": [
    {
     "data": {
      "text/plain": [
       "0      139750\n",
       "1      173200\n",
       "2       79750\n",
       "3      115000\n",
       "4      141500\n",
       "        ...  \n",
       "392    103106\n",
       "393    150564\n",
       "394    101738\n",
       "395     95329\n",
       "396     81035\n",
       "Name: salary, Length: 397, dtype: int64"
      ]
     },
     "execution_count": 65,
     "metadata": {},
     "output_type": "execute_result"
    }
   ],
   "source": [
    "y"
   ]
  },
  {
   "cell_type": "code",
   "execution_count": 125,
   "id": "d98a9ca1",
   "metadata": {},
   "outputs": [],
   "source": [
    "x_train,x_test,y_train,y_test = train_test_split(x, y , test_size=0.2, random_state=210)"
   ]
  },
  {
   "cell_type": "code",
   "execution_count": 126,
   "id": "eab4985b",
   "metadata": {},
   "outputs": [],
   "source": [
    "from sklearn.linear_model import LinearRegression"
   ]
  },
  {
   "cell_type": "code",
   "execution_count": 135,
   "id": "a09cb160",
   "metadata": {},
   "outputs": [],
   "source": [
    "from sklearn.metrics import mean_squared_error, mean_absolute_error"
   ]
  },
  {
   "cell_type": "code",
   "execution_count": 127,
   "id": "2172f677",
   "metadata": {},
   "outputs": [],
   "source": [
    "l_r=LinearRegression()"
   ]
  },
  {
   "cell_type": "code",
   "execution_count": 128,
   "id": "32f6894c",
   "metadata": {},
   "outputs": [
    {
     "data": {
      "text/plain": [
       "LinearRegression()"
      ]
     },
     "execution_count": 128,
     "metadata": {},
     "output_type": "execute_result"
    }
   ],
   "source": [
    "l_r.fit(x_train,y_train)"
   ]
  },
  {
   "cell_type": "code",
   "execution_count": 129,
   "id": "9df01fd6",
   "metadata": {},
   "outputs": [],
   "source": [
    "y_pred = l_r.predict(x_test)"
   ]
  },
  {
   "cell_type": "code",
   "execution_count": 130,
   "id": "53de2497",
   "metadata": {},
   "outputs": [
    {
     "data": {
      "text/plain": [
       "array([122375.08962362,  85038.96811467, 118366.72861558, 131406.29027666,\n",
       "        92845.23736531, 107924.74131686, 131021.02703373, 122332.98712068,\n",
       "        70814.19565486, 137917.72110747, 138633.4636574 ,  69026.86838201,\n",
       "        82102.19182954, 112122.38003975, 130159.9548255 , 117259.38210622,\n",
       "        95788.35436694, 115074.05040822, 116669.9470651 , 131351.50634073,\n",
       "       117337.2463956 , 116025.72808806, 138218.77934453, 131105.2320396 ,\n",
       "       137020.88711281, 132471.53428307, 130719.96879668, 131351.50634073,\n",
       "        91828.43657833,  67666.90685504, 131778.8720866 , 116747.81135448,\n",
       "       130467.35377905,  88487.31515154,  81975.88432073, 118072.01109502,\n",
       "       129349.64798674, 118625.68434969, 116097.25166095, 115051.02980401,\n",
       "       130461.01306256, 138772.4525992 , 134300.96405885, 134721.98908822,\n",
       "        69454.23412788, 138934.52189446, 130930.48131136, 108366.57430009,\n",
       "       130978.92453079, 106901.59981338, 131785.21280309, 117259.38210622,\n",
       "       119551.93941431, 116187.79738331,  84485.29485999, 104834.02225734,\n",
       "       120960.34416072,  68388.99012146, 133151.51504656, 137869.27788804,\n",
       "        82655.86508421, 116579.40134274, 134890.39909997, 116109.93309393,\n",
       "       129465.02022943,  92508.41734181, 131406.29027666, 131435.71134661,\n",
       "        94295.74461466, 117813.0553609 , 130425.25127612, 107286.86305631,\n",
       "        61849.92402508,  82655.86508421,  67709.00935797, 117000.42637211,\n",
       "        82529.5575754 , 124439.85843441, 118535.13862733, 131646.22386129])"
      ]
     },
     "execution_count": 130,
     "metadata": {},
     "output_type": "execute_result"
    }
   ],
   "source": [
    "y_pred"
   ]
  },
  {
   "cell_type": "markdown",
   "id": "5d66c000",
   "metadata": {},
   "source": [
    "without standarisation"
   ]
  },
  {
   "cell_type": "code",
   "execution_count": 137,
   "id": "b1d271a0",
   "metadata": {},
   "outputs": [
    {
     "name": "stdout",
     "output_type": "stream",
     "text": [
      "r2_score : 0.495074824856381\n",
      "MAE : 15387.415112684695\n",
      "MSE : 412284269.0287038\n",
      "RMSE : 124.04602014044907\n",
      "/n --------------------------------------------------\n",
      "Training score : 0.4300772517817213\n",
      "testing score: 0.495074824856381\n"
     ]
    }
   ],
   "source": [
    "print('r2_score :',r2_score(y_test,y_pred))\n",
    "print('MAE :',mean_absolute_error(y_test,y_pred))\n",
    "print('MSE :',mean_squared_error(y_test,y_pred))\n",
    "print('RMSE :',np.sqrt(mean_absolute_error(y_test,y_pred)))\n",
    "\n",
    "print('/n', '-' *50)\n",
    "\n",
    "print('Training score :', l_r.score(x_train,y_train))\n",
    "print('testing score:', l_r.score(x_test,y_test))"
   ]
  },
  {
   "cell_type": "code",
   "execution_count": 138,
   "id": "dbba7d96",
   "metadata": {},
   "outputs": [],
   "source": [
    "from sklearn.linear_model import Ridge"
   ]
  },
  {
   "cell_type": "code",
   "execution_count": 139,
   "id": "a1aa7238",
   "metadata": {},
   "outputs": [
    {
     "name": "stdout",
     "output_type": "stream",
     "text": [
      "r2_score : 0.4959875892408091\n",
      "MAE : 15366.758140932496\n",
      "MSE : 411538973.65514207\n",
      "RMSE : 123.96272883787488\n",
      "/n --------------------------------------------------\n",
      "Training score : 0.4300455976977088\n",
      "testing score: 0.4959875892408091\n"
     ]
    }
   ],
   "source": [
    "x=df.drop(columns=['salary'],axis=1)\n",
    "y=df['salary']\n",
    "\n",
    "\n",
    "x_train,x_test,y_train,y_test = train_test_split(x, y , test_size=0.2, random_state=210)\n",
    "l_r=Ridge()\n",
    "\n",
    "\n",
    "l_r.fit(x_train,y_train)\n",
    "\n",
    "y_pred = l_r.predict(x_test)\n",
    "\n",
    "print('r2_score :',r2_score(y_test,y_pred))\n",
    "print('MAE :',mean_absolute_error(y_test,y_pred))\n",
    "print('MSE :',mean_squared_error(y_test,y_pred))\n",
    "print('RMSE :',np.sqrt(mean_absolute_error(y_test,y_pred)))\n",
    "\n",
    "print('/n', '-' *50)\n",
    "\n",
    "print('Training score :', l_r.score(x_train,y_train))\n",
    "print('testing score:', l_r.score(x_test,y_test))"
   ]
  },
  {
   "cell_type": "code",
   "execution_count": 141,
   "id": "3758f552",
   "metadata": {},
   "outputs": [],
   "source": [
    "from sklearn.linear_model import BayesianRidge"
   ]
  },
  {
   "cell_type": "code",
   "execution_count": 142,
   "id": "fd144dac",
   "metadata": {},
   "outputs": [
    {
     "name": "stdout",
     "output_type": "stream",
     "text": [
      "r2_score : 0.4977494866559643\n",
      "MAE : 15326.801756686353\n",
      "MSE : 410100339.52939427\n",
      "RMSE : 123.80146104423143\n",
      "/n --------------------------------------------------\n",
      "Training score : 0.4297394734328829\n",
      "testing score: 0.4977494866559643\n"
     ]
    }
   ],
   "source": [
    "x=df.drop(columns=['salary'],axis=1)\n",
    "y=df['salary']\n",
    "\n",
    "\n",
    "x_train,x_test,y_train,y_test = train_test_split(x, y , test_size=0.2, random_state=210)\n",
    "l_r=BayesianRidge()\n",
    "\n",
    "\n",
    "l_r.fit(x_train,y_train)\n",
    "\n",
    "y_pred = l_r.predict(x_test)\n",
    "\n",
    "print('r2_score :',r2_score(y_test,y_pred))\n",
    "print('MAE :',mean_absolute_error(y_test,y_pred))\n",
    "print('MSE :',mean_squared_error(y_test,y_pred))\n",
    "print('RMSE :',np.sqrt(mean_absolute_error(y_test,y_pred)))\n",
    "\n",
    "print('/n', '-' *50)\n",
    "\n",
    "print('Training score :', l_r.score(x_train,y_train))\n",
    "print('testing score:', l_r.score(x_test,y_test))"
   ]
  },
  {
   "cell_type": "code",
   "execution_count": 143,
   "id": "0abd7b0e",
   "metadata": {},
   "outputs": [
    {
     "data": {
      "text/html": [
       "<div>\n",
       "<style scoped>\n",
       "    .dataframe tbody tr th:only-of-type {\n",
       "        vertical-align: middle;\n",
       "    }\n",
       "\n",
       "    .dataframe tbody tr th {\n",
       "        vertical-align: top;\n",
       "    }\n",
       "\n",
       "    .dataframe thead th {\n",
       "        text-align: right;\n",
       "    }\n",
       "</style>\n",
       "<table border=\"1\" class=\"dataframe\">\n",
       "  <thead>\n",
       "    <tr style=\"text-align: right;\">\n",
       "      <th></th>\n",
       "      <th>rank</th>\n",
       "      <th>yrs_since_phd</th>\n",
       "      <th>yrs_service</th>\n",
       "      <th>discipline_B</th>\n",
       "      <th>sex_Male</th>\n",
       "    </tr>\n",
       "  </thead>\n",
       "  <tbody>\n",
       "    <tr>\n",
       "      <th>0</th>\n",
       "      <td>3</td>\n",
       "      <td>19</td>\n",
       "      <td>18</td>\n",
       "      <td>1</td>\n",
       "      <td>1</td>\n",
       "    </tr>\n",
       "    <tr>\n",
       "      <th>1</th>\n",
       "      <td>3</td>\n",
       "      <td>20</td>\n",
       "      <td>16</td>\n",
       "      <td>1</td>\n",
       "      <td>1</td>\n",
       "    </tr>\n",
       "    <tr>\n",
       "      <th>2</th>\n",
       "      <td>1</td>\n",
       "      <td>4</td>\n",
       "      <td>3</td>\n",
       "      <td>1</td>\n",
       "      <td>1</td>\n",
       "    </tr>\n",
       "    <tr>\n",
       "      <th>3</th>\n",
       "      <td>3</td>\n",
       "      <td>45</td>\n",
       "      <td>39</td>\n",
       "      <td>1</td>\n",
       "      <td>1</td>\n",
       "    </tr>\n",
       "    <tr>\n",
       "      <th>4</th>\n",
       "      <td>3</td>\n",
       "      <td>40</td>\n",
       "      <td>41</td>\n",
       "      <td>1</td>\n",
       "      <td>1</td>\n",
       "    </tr>\n",
       "    <tr>\n",
       "      <th>...</th>\n",
       "      <td>...</td>\n",
       "      <td>...</td>\n",
       "      <td>...</td>\n",
       "      <td>...</td>\n",
       "      <td>...</td>\n",
       "    </tr>\n",
       "    <tr>\n",
       "      <th>392</th>\n",
       "      <td>3</td>\n",
       "      <td>33</td>\n",
       "      <td>30</td>\n",
       "      <td>0</td>\n",
       "      <td>1</td>\n",
       "    </tr>\n",
       "    <tr>\n",
       "      <th>393</th>\n",
       "      <td>3</td>\n",
       "      <td>31</td>\n",
       "      <td>19</td>\n",
       "      <td>0</td>\n",
       "      <td>1</td>\n",
       "    </tr>\n",
       "    <tr>\n",
       "      <th>394</th>\n",
       "      <td>3</td>\n",
       "      <td>42</td>\n",
       "      <td>25</td>\n",
       "      <td>0</td>\n",
       "      <td>1</td>\n",
       "    </tr>\n",
       "    <tr>\n",
       "      <th>395</th>\n",
       "      <td>3</td>\n",
       "      <td>25</td>\n",
       "      <td>15</td>\n",
       "      <td>0</td>\n",
       "      <td>1</td>\n",
       "    </tr>\n",
       "    <tr>\n",
       "      <th>396</th>\n",
       "      <td>1</td>\n",
       "      <td>8</td>\n",
       "      <td>4</td>\n",
       "      <td>0</td>\n",
       "      <td>1</td>\n",
       "    </tr>\n",
       "  </tbody>\n",
       "</table>\n",
       "<p>397 rows × 5 columns</p>\n",
       "</div>"
      ],
      "text/plain": [
       "     rank  yrs_since_phd  yrs_service  discipline_B  sex_Male\n",
       "0       3             19           18             1         1\n",
       "1       3             20           16             1         1\n",
       "2       1              4            3             1         1\n",
       "3       3             45           39             1         1\n",
       "4       3             40           41             1         1\n",
       "..    ...            ...          ...           ...       ...\n",
       "392     3             33           30             0         1\n",
       "393     3             31           19             0         1\n",
       "394     3             42           25             0         1\n",
       "395     3             25           15             0         1\n",
       "396     1              8            4             0         1\n",
       "\n",
       "[397 rows x 5 columns]"
      ]
     },
     "execution_count": 143,
     "metadata": {},
     "output_type": "execute_result"
    }
   ],
   "source": [
    "x"
   ]
  },
  {
   "cell_type": "code",
   "execution_count": 144,
   "id": "0acbf49d",
   "metadata": {},
   "outputs": [],
   "source": [
    "scaler=StandardScaler()\n",
    "x_scaled= scaler.fit_transform(x)"
   ]
  },
  {
   "cell_type": "code",
   "execution_count": 145,
   "id": "7f763152",
   "metadata": {},
   "outputs": [
    {
     "data": {
      "text/plain": [
       "array([[ 0.65066837, -0.25754973,  0.02966908,  0.91540317,  0.3300584 ],\n",
       "       [ 0.65066837, -0.17985426, -0.12429986,  0.91540317,  0.3300584 ],\n",
       "       [-1.95857752, -1.42298184, -1.12509795,  0.91540317,  0.3300584 ],\n",
       "       ...,\n",
       "       [ 0.65066837,  1.52944617,  0.56856036, -1.09241483,  0.3300584 ],\n",
       "       [ 0.65066837,  0.20862311, -0.20128433, -1.09241483,  0.3300584 ],\n",
       "       [-1.95857752, -1.11219995, -1.04811348, -1.09241483,  0.3300584 ]])"
      ]
     },
     "execution_count": 145,
     "metadata": {},
     "output_type": "execute_result"
    }
   ],
   "source": [
    "x_scaled"
   ]
  },
  {
   "cell_type": "code",
   "execution_count": 146,
   "id": "b3ba0289",
   "metadata": {},
   "outputs": [
    {
     "name": "stdout",
     "output_type": "stream",
     "text": [
      "r2_score : 0.4950748248563811\n",
      "MAE : 15387.415112684694\n",
      "MSE : 412284269.0287037\n",
      "RMSE : 124.04602014044906\n",
      "/n --------------------------------------------------\n",
      "Training score : 0.4300772517817212\n",
      "testing score: 0.4950748248563811\n"
     ]
    }
   ],
   "source": [
    "x=df.drop(columns=['salary'],axis=1)\n",
    "y=df['salary']\n",
    "\n",
    "\n",
    "x_train,x_test,y_train,y_test = train_test_split(x_scaled, y , test_size=0.2, random_state=210)\n",
    "l_r=LinearRegression()\n",
    "\n",
    "\n",
    "l_r.fit(x_train,y_train)\n",
    "\n",
    "y_pred = l_r.predict(x_test)\n",
    "\n",
    "print('r2_score :',r2_score(y_test,y_pred))\n",
    "print('MAE :',mean_absolute_error(y_test,y_pred))\n",
    "print('MSE :',mean_squared_error(y_test,y_pred))\n",
    "print('RMSE :',np.sqrt(mean_absolute_error(y_test,y_pred)))\n",
    "\n",
    "print('/n', '-' *50)\n",
    "\n",
    "print('Training score :', l_r.score(x_train,y_train))\n",
    "print('testing score:', l_r.score(x_test,y_test))"
   ]
  },
  {
   "cell_type": "code",
   "execution_count": 147,
   "id": "4083001f",
   "metadata": {},
   "outputs": [
    {
     "name": "stdout",
     "output_type": "stream",
     "text": [
      "r2_score : 0.365071524483328\n",
      "MAE : 19298.336918566107\n",
      "MSE : 654756198.4280795\n",
      "RMSE : 138.91845420449403\n",
      "/n --------------------------------------------------\n",
      "Training score : 0.4630127075586993\n",
      "testing score: 0.365071524483328\n"
     ]
    }
   ],
   "source": [
    "x=df.drop(columns=['salary'],axis=1)\n",
    "y=df['salary']\n",
    "\n",
    "\n",
    "x_train,x_test,y_train,y_test = train_test_split(x_scaled, y , test_size=0.2, random_state=100)\n",
    "l_r=Ridge()\n",
    "\n",
    "\n",
    "l_r.fit(x_train,y_train)\n",
    "\n",
    "y_pred = l_r.predict(x_test)\n",
    "\n",
    "print('r2_score :',r2_score(y_test,y_pred))\n",
    "print('MAE :',mean_absolute_error(y_test,y_pred))\n",
    "print('MSE :',mean_squared_error(y_test,y_pred))\n",
    "print('RMSE :',np.sqrt(mean_absolute_error(y_test,y_pred)))\n",
    "\n",
    "print('/n', '-' *50)\n",
    "\n",
    "print('Training score :', l_r.score(x_train,y_train))\n",
    "print('testing score:', l_r.score(x_test,y_test))"
   ]
  },
  {
   "cell_type": "code",
   "execution_count": null,
   "id": "1b6297f6",
   "metadata": {},
   "outputs": [],
   "source": []
  },
  {
   "cell_type": "code",
   "execution_count": null,
   "id": "a2e79ae4",
   "metadata": {},
   "outputs": [],
   "source": []
  },
  {
   "cell_type": "code",
   "execution_count": null,
   "id": "d9455c6c",
   "metadata": {},
   "outputs": [],
   "source": []
  },
  {
   "cell_type": "code",
   "execution_count": null,
   "id": "cae5b4a5",
   "metadata": {},
   "outputs": [],
   "source": []
  },
  {
   "cell_type": "code",
   "execution_count": null,
   "id": "947c6f7a",
   "metadata": {},
   "outputs": [],
   "source": []
  },
  {
   "cell_type": "code",
   "execution_count": null,
   "id": "ed00c2e1",
   "metadata": {},
   "outputs": [],
   "source": []
  },
  {
   "cell_type": "code",
   "execution_count": null,
   "id": "ccf0e6a8",
   "metadata": {},
   "outputs": [],
   "source": []
  },
  {
   "cell_type": "code",
   "execution_count": null,
   "id": "29f0e659",
   "metadata": {},
   "outputs": [],
   "source": []
  },
  {
   "cell_type": "code",
   "execution_count": null,
   "id": "be47fdd2",
   "metadata": {},
   "outputs": [],
   "source": []
  },
  {
   "cell_type": "code",
   "execution_count": null,
   "id": "6bdd55cb",
   "metadata": {},
   "outputs": [],
   "source": []
  },
  {
   "cell_type": "code",
   "execution_count": null,
   "id": "36be8de3",
   "metadata": {},
   "outputs": [],
   "source": []
  },
  {
   "cell_type": "code",
   "execution_count": null,
   "id": "84e45acf",
   "metadata": {},
   "outputs": [],
   "source": []
  },
  {
   "cell_type": "code",
   "execution_count": null,
   "id": "d51d79fc",
   "metadata": {},
   "outputs": [],
   "source": []
  },
  {
   "cell_type": "code",
   "execution_count": null,
   "id": "fa9b160c",
   "metadata": {},
   "outputs": [],
   "source": []
  },
  {
   "cell_type": "code",
   "execution_count": null,
   "id": "9f87d4f3",
   "metadata": {},
   "outputs": [],
   "source": []
  },
  {
   "cell_type": "code",
   "execution_count": null,
   "id": "ab89827c",
   "metadata": {},
   "outputs": [],
   "source": []
  }
 ],
 "metadata": {
  "kernelspec": {
   "display_name": "Python 3 (ipykernel)",
   "language": "python",
   "name": "python3"
  },
  "language_info": {
   "codemirror_mode": {
    "name": "ipython",
    "version": 3
   },
   "file_extension": ".py",
   "mimetype": "text/x-python",
   "name": "python",
   "nbconvert_exporter": "python",
   "pygments_lexer": "ipython3",
   "version": "3.9.7"
  }
 },
 "nbformat": 4,
 "nbformat_minor": 5
}
